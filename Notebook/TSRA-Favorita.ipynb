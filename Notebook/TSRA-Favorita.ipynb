version https://git-lfs.github.com/spec/v1
oid sha256:81d0fc56f9e6edff2876909fce6af452e956c31dc0307872f41951eb037876c9
size 4091837
