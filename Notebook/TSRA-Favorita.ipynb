version https://git-lfs.github.com/spec/v1
oid sha256:c012d0954eaca3eebfc57a6608262a46345a6e4d2eb718f98deddd2e65250b20
size 4074711
