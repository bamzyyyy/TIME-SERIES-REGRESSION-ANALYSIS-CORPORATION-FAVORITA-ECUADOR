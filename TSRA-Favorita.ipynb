version https://git-lfs.github.com/spec/v1
oid sha256:567ccd80ce7d1434056d2bee588f0b5e14bb470ea405d4c1959d37ed174b2d26
size 4074164
